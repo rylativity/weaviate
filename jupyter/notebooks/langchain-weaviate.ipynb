{
 "cells": [
  {
   "cell_type": "code",
   "execution_count": 1,
   "metadata": {},
   "outputs": [],
   "source": [
    "from langchain.embeddings import HuggingFaceEmbeddings\n",
    "from langchain.text_splitter import CharacterTextSplitter\n",
    "from langchain.vectorstores import Weaviate\n",
    "from langchain.document_loaders import TextLoader"
   ]
  },
  {
   "cell_type": "code",
   "execution_count": 2,
   "metadata": {},
   "outputs": [
    {
     "name": "stderr",
     "output_type": "stream",
     "text": [
      "/Users/Ryan/github/weaviate/venv/lib/python3.10/site-packages/tqdm/auto.py:21: TqdmWarning: IProgress not found. Please update jupyter and ipywidgets. See https://ipywidgets.readthedocs.io/en/stable/user_install.html\n",
      "  from .autonotebook import tqdm as notebook_tqdm\n"
     ]
    }
   ],
   "source": [
    "loader = TextLoader(\"./sotu.txt\")\n",
    "documents = loader.load()\n",
    "text_splitter = CharacterTextSplitter(chunk_size=1000, chunk_overlap=0)\n",
    "docs = text_splitter.split_documents(documents)\n",
    "\n",
    "model_name = \"sentence-transformers/all-mpnet-base-v2\"\n",
    "model_kwargs = {'device': 'cpu'}\n",
    "encode_kwargs = {'normalize_embeddings': False}\n",
    "embeddings = HuggingFaceEmbeddings(\n",
    "    model_name=model_name,\n",
    "    model_kwargs=model_kwargs,\n",
    "    encode_kwargs=encode_kwargs\n",
    ")"
   ]
  },
  {
   "cell_type": "code",
   "execution_count": 3,
   "metadata": {},
   "outputs": [],
   "source": [
    "db = Weaviate.from_documents(docs, embeddings, weaviate_url=\"http://localhost:8080\", by_text=False)"
   ]
  },
  {
   "cell_type": "code",
   "execution_count": 4,
   "metadata": {},
   "outputs": [],
   "source": [
    "query = \"What did the president say about Ketanji Brown Jackson\"\n",
    "docs = db.similarity_search(query)"
   ]
  },
  {
   "cell_type": "code",
   "execution_count": 5,
   "metadata": {},
   "outputs": [
    {
     "data": {
      "text/plain": [
       "[Document(page_content='Tonight. I call on the Senate to: Pass the Freedom to Vote Act. Pass the John Lewis Voting Rights Act. And while you’re at it, pass the Disclose Act so Americans can know who is funding our elections. \\n\\nTonight, I’d like to honor someone who has dedicated his life to serve this country: Justice Stephen Breyer—an Army veteran, Constitutional scholar, and retiring Justice of the United States Supreme Court. Justice Breyer, thank you for your service. \\n\\nOne of the most serious constitutional responsibilities a President has is nominating someone to serve on the United States Supreme Court. \\n\\nAnd I did that 4 days ago, when I nominated Circuit Court of Appeals Judge Ketanji Brown Jackson. One of our nation’s top legal minds, who will continue Justice Breyer’s legacy of excellence.', metadata={'source': './sotu.txt'}),\n",
       " Document(page_content='As Frances Haugen, who is here with us tonight, has shown, we must hold social media platforms accountable for the national experiment they’re conducting on our children for profit. \\n\\nIt’s time to strengthen privacy protections, ban targeted advertising to children, demand tech companies stop collecting personal data on our children. \\n\\nAnd let’s get all Americans the mental health services they need. More people they can turn to for help, and full parity between physical and mental health care. \\n\\nThird, support our veterans. \\n\\nVeterans are the best of us. \\n\\nI’ve always believed that we have a sacred obligation to equip all those we send to war and care for them and their families when they come home. \\n\\nMy administration is providing assistance with job training and housing, and now helping lower-income veterans get VA care debt-free.  \\n\\nOur troops in Iraq and Afghanistan faced many dangers.', metadata={'source': './sotu.txt'}),\n",
       " Document(page_content='A former top litigator in private practice. A former federal public defender. And from a family of public school educators and police officers. A consensus builder. Since she’s been nominated, she’s received a broad range of support—from the Fraternal Order of Police to former judges appointed by Democrats and Republicans. \\n\\nAnd if we are to advance liberty and justice, we need to secure the Border and fix the immigration system. \\n\\nWe can do both. At our border, we’ve installed new technology like cutting-edge scanners to better detect drug smuggling.  \\n\\nWe’ve set up joint patrols with Mexico and Guatemala to catch more human traffickers.  \\n\\nWe’re putting in place dedicated immigration judges so families fleeing persecution and violence can have their cases heard faster. \\n\\nWe’re securing commitments and supporting partners in South and Central America to host more refugees and secure their own borders.', metadata={'source': './sotu.txt'}),\n",
       " Document(page_content='But cancer from prolonged exposure to burn pits ravaged Heath’s lungs and body. \\n\\nDanielle says Heath was a fighter to the very end. \\n\\nHe didn’t know how to stop fighting, and neither did she. \\n\\nThrough her pain she found purpose to demand we do better. \\n\\nTonight, Danielle—we are. \\n\\nThe VA is pioneering new ways of linking toxic exposures to diseases, already helping more veterans get benefits. \\n\\nAnd tonight, I’m announcing we’re expanding eligibility to veterans suffering from nine respiratory cancers. \\n\\nI’m also calling on Congress: pass a law to make sure veterans devastated by toxic exposures in Iraq and Afghanistan finally get the benefits and comprehensive health care they deserve. \\n\\nAnd fourth, let’s end cancer as we know it. \\n\\nThis is personal to me and Jill, to Kamala, and to so many of you. \\n\\nCancer is the #2 cause of death in America–second only to heart disease.', metadata={'source': './sotu.txt'})]"
      ]
     },
     "execution_count": 5,
     "metadata": {},
     "output_type": "execute_result"
    }
   ],
   "source": [
    "docs"
   ]
  },
  {
   "cell_type": "code",
   "execution_count": 6,
   "metadata": {},
   "outputs": [
    {
     "data": {
      "text/plain": [
       "(Document(page_content='Tonight. I call on the Senate to: Pass the Freedom to Vote Act. Pass the John Lewis Voting Rights Act. And while you’re at it, pass the Disclose Act so Americans can know who is funding our elections. \\n\\nTonight, I’d like to honor someone who has dedicated his life to serve this country: Justice Stephen Breyer—an Army veteran, Constitutional scholar, and retiring Justice of the United States Supreme Court. Justice Breyer, thank you for your service. \\n\\nOne of the most serious constitutional responsibilities a President has is nominating someone to serve on the United States Supreme Court. \\n\\nAnd I did that 4 days ago, when I nominated Circuit Court of Appeals Judge Ketanji Brown Jackson. One of our nation’s top legal minds, who will continue Justice Breyer’s legacy of excellence.', metadata={'_additional': {'vector': [0.006040519, 0.113381244, 0.0010239102, -0.0091875, -0.016507884, 0.0025089795, -0.038824633, 0.006660622, -0.01766236, -0.022744674, 0.040458843, -0.011278521, -0.029034672, 0.0066565503, -0.018123005, -0.030092627, 0.02239207, 0.029456597, 0.06083956, 0.016262168, -0.03351584, -0.006511919, 0.02097107, -0.04484662, -0.05456253, -0.025140293, 0.06334319, 0.006568, -0.031892523, -0.017706353, -0.025926543, 0.0130634485, -0.032922704, -0.057125367, 2.1224873e-06, -0.008148972, 0.054132495, -0.013329428, -0.04433637, -0.0050730235, -0.054700907, 0.026602896, -0.050033227, 0.00047603788, -0.010334156, 0.009014359, -0.03882416, 0.03316711, -0.017969932, 0.010240183, 0.028492296, 0.038354203, 0.03146543, -0.02489146, 0.054703705, 0.057182994, 0.0067853713, -0.036553834, -0.060853694, -0.091247775, 0.0492942, 0.017412271, 0.0018019513, -0.0003296235, 0.068440914, 0.037284087, -0.00046716133, 0.091923974, 0.056557264, 0.006072585, 0.09269365, 0.019518709, 0.057387006, 0.09111795, 0.041040163, -0.0043519987, 0.008906605, 0.07362514, -0.011012633, -0.04938159, -0.005833411, 0.02717937, -0.026209835, 0.0010627371, 0.031059068, 0.040232968, -0.005991308, 0.01543542, -0.0059321607, 0.04039613, 0.050774276, -0.037796218, 0.025960127, -0.022746157, 0.008722184, -0.0015243533, 0.039057937, 0.04880875, 0.037233584, 0.0053728055, 0.026430978, 0.02493281, 0.01817094, -0.010301212, -0.027666941, 0.025500441, -0.008100882, 0.016794827, 0.013269237, -0.0015831931, 0.0049737687, 0.011495376, -0.00049162965, -0.012626038, -0.07208497, -0.018471312, -0.0027905318, 0.025300011, 0.00837534, 0.053564332, -0.012946831, -0.012266208, -0.0015833915, 0.01998557, -0.025495047, -0.049727414, -0.03508429, -0.008858456, -0.012918019, 0.008568292, -0.033844586, 0.04437461, -0.0037377246, -0.024784882, 0.006868601, 0.045544494, -0.0035369375, -0.024718948, 0.031311654, -0.018207677, -0.0533774, 0.020339735, 0.015047603, 0.010630888, 0.0052661267, -0.03402645, 0.03802098, 0.0019213144, 0.028136333, -0.002787236, 0.09282063, -0.02382987, 0.021352876, -0.026022453, -0.043150365, 0.019361759, -0.031004703, -0.05033568, -0.0013652222, 0.02492258, -0.030907609, -0.054097608, -0.013910819, -0.008015982, -0.044342186, 0.06562885, 0.07629634, -0.001787127, -0.016684622, 0.0482808, 0.068516694, -0.0021121146, -0.0062309247, 0.031594843, 0.05455264, 0.039212853, -0.077910855, 0.0618863, -0.0006920072, -0.016738072, 0.013732711, -0.057427913, -0.01694895, 0.0012889473, 0.023390556, 0.04195302, -0.040429942, 0.06162483, -0.0006116026, 0.0062627885, 0.036846947, -0.007965242, 0.045325786, 0.038626473, -0.00017412863, 0.0042799753, -0.013166864, 0.048830885, 0.004031491, -0.05104593, 0.003848403, 0.016899783, -0.03743266, -0.026900144, -0.007381914, 0.010959413, 0.0037286521, 0.0070735295, 0.048879147, -0.006727616, 0.016370857, 0.03887908, -0.057752423, -0.006770723, -0.027564412, 0.04357695, 0.04347455, 0.022489158, -0.002217269, 0.08757568, -0.008132842, -0.042974114, 0.027422285, 0.015223426, 0.067403205, -0.0061425245, 0.011030529, -0.016322207, 0.0071483017, -0.006680896, 0.013655552, -0.027869597, -0.017497923, 0.018356575, 0.066961154, 0.0026345851, -0.021858023, 0.05789011, 0.016746156, -0.014562646, -0.013987034, 0.027066879, -0.027030773, -0.011353609, 0.048954725, 0.0062940386, -0.057350114, -0.06039747, -0.0030137596, 0.004885175, -0.029032124, 0.015911346, -0.03398025, 0.007471942, -0.017002298, -0.025788676, -0.034972772, -0.0010154098, -0.022481373, -0.050544277, -0.039301924, -0.01693675, -0.06129481, -0.0053030513, -0.04664057, -0.022231208, 0.03493925, 0.06789082, 0.0036331078, -0.023875993, 0.005098753, -0.048137706, 0.03475354, 0.01108715, -0.019276658, 0.033953365, -0.0013916319, -0.022956409, -0.043932796, 0.012980657, -0.007483315, 0.028481206, 0.005066963, -0.005528634, -0.02877912, -0.028652536, -0.0016936528, 8.807757e-06, 0.028043965, 0.012775514, -0.020537067, -0.0015781195, -0.0006297931, -0.0007051862, 0.027937965, -0.0010931862, -0.071133845, -0.010322861, 0.039460022, 0.041205537, 0.03290247, 0.012182409, 0.04981741, 0.031930234, 0.03238078, 0.047772318, 0.02787713, 0.10009011, 0.01094494, -0.068131514, 0.018132744, -0.010464749, -0.019713644, -0.035488386, -0.008972668, 0.022696307, -0.057305086, -0.04082401, -0.0044385972, -0.016423283, -0.019421611, -0.0028774193, -0.0032917662, 0.0126073435, 0.009223326, -0.011361268, 0.056465223, -0.023213131, 0.11282455, -0.042625215, 0.0030486425, -0.042126905, -0.04108611, -0.03617369, 0.027184337, 0.021520976, -0.050641585, 0.041749083, 0.002727331, 0.009755205, -0.011866434, -0.046724375, -0.034076862, 0.030649213, -0.076840706, -0.000677371, 0.051558405, -0.021154992, -0.08378404, -0.03021123, 0.01792767, -0.036739703, 0.02319262, 0.009223457, 0.018242503, 0.011064178, -0.030770022, 0.028579475, 0.023622328, 0.036339387, -0.04001277, -0.014650128, 0.03653168, 0.035508398, 0.031658944, -0.022010569, 0.047234137, -0.010990472, 0.0070476835, -0.03141053, 0.030961858, -0.02230974, -0.0063323868, 0.044577397, -0.017507885, 0.038280502, 0.013990602, -0.03319403, 0.06989583, 0.0069877794, 0.014613039, -0.09534017, 0.014848867, 0.008515213, -0.034138612, -0.017118815, -0.019324772, -0.0054746405, -0.051338814, 0.018953336, 0.021737559, 0.0916672, 0.028030353, -0.054975815, 0.0046768035, 0.002240638, -0.061817136, 0.018411068, -0.02662169, -0.0067310557, 0.022581382, 0.05244695, 0.010386051, 0.042672064, 0.020703997, 0.0066521717, 0.026101198, 0.02098361, 0.018359143, 0.036813803, -0.03181426, -0.11210885, -0.050086167, 0.03327788, -4.40273e-05, -0.0102427555, -0.040111613, -0.111538716, 0.02076486, 0.03558172, 0.021454014, 0.014802967, -0.0016890125, -0.05957682, 0.0044986876, -0.029226372, 0.043610573, -0.005678499, 0.047942296, -0.016943669, 0.02529721, 0.017104153, 0.02474031, -0.00024834363, -0.063138135, 0.06031315, 0.009566222, -0.0028433052, -0.0012310916, -0.042621735, -0.000117232295, -0.03194877, -0.02540703, 0.028047413, 0.05380536, -0.001397397, 0.006186225, -0.019224538, 0.059890795, -0.053211488, -0.008908921, 0.0556327, -0.051740747, -0.050163344, 0.03515016, -0.023623928, 0.005283357, 0.0392745, 0.053563986, 0.018706415, -0.03280967, 0.0035065475, -0.036089886, -0.01736398, -0.018603222, 0.05808396, 0.031573236, -0.021275038, -0.011606867, 0.017003777, -0.08497503, 0.017686436, -0.05501007, 0.04005711, -0.0016934489, -0.012808366, -0.03861324, 0.0027007973, 0.038761523, -0.06051846, 0.012150396, -0.023695303, -0.014045283, -0.014213531, 0.04353363, -0.03446037, 0.002101527, -0.023125874, 0.044211425, -0.025797194, -0.03699149, 0.027908541, -0.029762374, -0.012086472, 0.008382193, 0.05195381, -0.020820783, 0.013810763, 0.07684367, -0.049210113, 0.018886304, -0.014846356, 0.01149404, 0.050414205, 0.006927914, 0.024995094, -0.01582407, 0.03188503, 0.001962231, -0.043157168, -0.03692838, 0.02505281, -0.08721209, 0.007956854, -0.00822917, 0.042254664, -0.04026633, 0.016801834, -0.014825425, 0.0049695666, 0.036724813, 0.009516882, -0.014586154, -0.051039815, 0.04954723, 0.022424495, 0.00046434713, -0.021162042, -0.061191067, -0.04276672, -0.03854517, 0.026645906, -0.018662307, 0.04535278, 0.010174959, -0.040305484, -0.02147274, 0.03443243, 0.025303204, -0.07925787, 0.0021802292, 0.07359181, 0.1109164, 0.0316268, 0.046782143, 0.069264285, 0.011963882, -0.01474256, -0.006000708, -0.006710929, -0.0020987566, -0.019526254, -0.016338632, -0.025914824, -0.010281946, -6.6484256e-33, 0.00029374493, 0.00046197834, 0.019242333, 0.0044423477, -0.08446972, 0.029305767, -0.0120456545, 0.01378097, -0.011399534, 0.031670183, -0.0399576, 0.005100532, -8.646408e-05, 0.031568885, 0.039047353, -0.024313224, -0.0026864675, 0.019293277, -0.028878653, 0.05085277, -0.04416564, -0.016257122, -0.004261597, -0.01182476, -0.0068418733, 0.06687543, -0.052546505, -0.020124452, 0.022602621, -0.030809348, -0.035974503, 0.035365675, -0.027537467, -0.044736296, 0.033787444, 0.06745474, -0.075707495, 0.060851663, 0.0065722256, -0.039503504, -0.00581791, 0.020145776, -0.0035116512, 0.004057941, -0.00868554, 0.023986144, 0.0068029384, -0.0024903177, -0.012801936, -0.062216356, -0.027198084, -0.010046209, -0.017062787, -0.0010012839, -0.038386453, -0.0281976, -0.010373951, -0.044121522, -0.05332121, 0.039368562, -0.05279084, -0.028960904, -0.014552766, -0.022375342, 0.011093629, 0.011979649, 0.020005753, 0.02244248, -0.0067191753, 0.038957093, 0.023204451, -0.015398152, 0.0016333332, 0.07559746, -0.010185935, -0.08040313, -0.029743977, 0.007344543, 0.07255916, 0.027099058, 0.016228992, -0.044702854, 0.006082475, 0.015853317, 0.009794454, -0.122049116, 0.0040298766, 0.05232772, -0.0071988897, -0.008755145, -0.013505783, -0.008323349, 8.0352234e-05, 0.024685012, -0.022737954, 0.011363841, -0.019447831, 0.02694248, 0.014609606, -0.054380555, 0.037169833, -0.02741463, -0.02417067, 0.015203084, -0.01821186, -0.020568747, -0.003317204, -0.051091652, 0.010460746, -0.022566374, 0.0069050333, 0.03277648, 0.07446402, 0.009603925, -0.0014302394, 0.03156508, 0.027199626, 0.031534277, 0.018302813, 0.011905744, -0.027072405, -0.068865076, -0.00030042237, 0.009441696, -0.044885553, 0.0046630646, 4.4921122e-05, -0.03673218, -0.034660023, 0.038773663, 0.0020451911, -0.033885706, 2.9580937e-07, 0.04745076, -0.016110297, -0.07881361, -0.053970102, -0.031481914, -0.007712801, 0.017052837, 0.04680779, 0.03493232, -0.01499569, 0.040460046, -0.040038962, -0.009023601, -0.053167336, -0.060822576, -0.1674634, -0.056816086, -0.059610724, 0.0074154204, 0.02877253, 0.034923922, 0.015087219, 0.04079555, -0.019305319, -0.024006257, 0.0014326018, 0.02242643, -0.046596743, 0.017456634, 0.0016652473, 0.026525203, -0.05008243, -0.043280557, -0.0034963647, -0.007819425, -0.040967084, -0.021769019, 0.03432691, 0.026926896, 0.024597932, -0.05234445, 0.04331932, -0.023920603, 0.04507601, -0.007883212, 0.010095856, -0.036226545, -0.066782914, -0.07228174, 0.029156297, 0.006382231, 0.07459454, -0.047582135, 0.018420847, -0.03121751, 0.013119051, 0.0036037888, -0.043890014, 0.023474727, 0.019749649, -0.0003933347, -0.03761389, 0.0063917693, -0.037529916, 0.07284133, -0.017917454, -0.012316996, 2.2969185e-34, 0.026007455, -0.005340422, 0.093326695, 0.02218606, -0.0023398546, -0.0030371624, -0.010759674, -0.088708274, -0.02666266, -0.015259065, 0.0067209885]}, 'source': './sotu.txt'}),\n",
       " 0.39839523628171974)"
      ]
     },
     "execution_count": 6,
     "metadata": {},
     "output_type": "execute_result"
    }
   ],
   "source": [
    "docs = db.similarity_search_with_score(query, by_text=False)\n",
    "docs[0]"
   ]
  },
  {
   "cell_type": "markdown",
   "metadata": {},
   "source": [
    "# https://python.langchain.com/docs/integrations/vectorstores/weaviate#question-answering-with-sources"
   ]
  },
  {
   "cell_type": "code",
   "execution_count": 3,
   "metadata": {},
   "outputs": [],
   "source": [
    "from langchain.llms import HuggingFacePipeline\n",
    "from langchain.chains import RetrievalQAWithSourcesChain\n",
    "from transformers import pipeline, AutoModelForCausalLM, AutoTokenizer"
   ]
  },
  {
   "cell_type": "code",
   "execution_count": 4,
   "metadata": {},
   "outputs": [],
   "source": [
    "model = AutoModelForCausalLM.from_pretrained(\"bigscience/bloom-1b7\")\n",
    "tokenizer = AutoTokenizer.from_pretrained(\"bigscience/bloom-1b7\")\n",
    "gen = pipeline('text-generation', model=model, tokenizer=tokenizer, max_new_tokens=200)\n",
    "\n",
    "llm = HuggingFacePipeline(pipeline=gen)"
   ]
  },
  {
   "cell_type": "code",
   "execution_count": null,
   "metadata": {},
   "outputs": [],
   "source": [
    "# llm = HuggingFacePipeline.from_model_id(\n",
    "#     model_id=\"bigscience/bloom-1b7\",\n",
    "#     task=\"text-generation\",\n",
    "#     model_kwargs={\n",
    "#         # \"temperature\": 0, \n",
    "#         # \"do_sample\":True,\n",
    "#         # \"max_length\": 300,\n",
    "#         \"min_length\":50\n",
    "#         },\n",
    "# )"
   ]
  },
  {
   "cell_type": "code",
   "execution_count": null,
   "metadata": {},
   "outputs": [],
   "source": [
    "with open(\"./sotu.txt\") as f:\n",
    "    state_of_the_union = f.read()\n",
    "text_splitter = CharacterTextSplitter(chunk_size=1000, chunk_overlap=0)\n",
    "texts = text_splitter.split_text(state_of_the_union)"
   ]
  },
  {
   "cell_type": "code",
   "execution_count": null,
   "metadata": {},
   "outputs": [],
   "source": [
    "docsearch = Weaviate.from_texts(\n",
    "    texts,\n",
    "    embeddings,\n",
    "    weaviate_url=\"http://localhost:8080\",\n",
    "    by_text=False,\n",
    "    metadatas=[{\"source\": f\"{i}-pl\"} for i in range(len(texts))],\n",
    ")"
   ]
  },
  {
   "cell_type": "code",
   "execution_count": null,
   "metadata": {},
   "outputs": [],
   "source": [
    "chain = RetrievalQAWithSourcesChain.from_chain_type(\n",
    "    llm=llm, chain_type=\"stuff\", retriever=docsearch.as_retriever()\n",
    ")"
   ]
  },
  {
   "cell_type": "code",
   "execution_count": null,
   "metadata": {},
   "outputs": [],
   "source": [
    "chain(\n",
    "    {\"question\": \"What did the president say about Justice Breyer\"},\n",
    "    return_only_outputs=True,\n",
    ")"
   ]
  },
  {
   "cell_type": "code",
   "execution_count": null,
   "metadata": {},
   "outputs": [],
   "source": []
  }
 ],
 "metadata": {
  "kernelspec": {
   "display_name": "Python 3 (ipykernel)",
   "language": "python",
   "name": "python3"
  },
  "language_info": {
   "codemirror_mode": {
    "name": "ipython",
    "version": 3
   },
   "file_extension": ".py",
   "mimetype": "text/x-python",
   "name": "python",
   "nbconvert_exporter": "python",
   "pygments_lexer": "ipython3",
   "version": "3.10.4"
  },
  "vscode": {
   "interpreter": {
    "hash": "e340e1d635ef31d638b708acd378c57ce6b4023860ec4c3e58029c83aad32e42"
   }
  }
 },
 "nbformat": 4,
 "nbformat_minor": 4
}
